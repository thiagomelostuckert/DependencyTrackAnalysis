{
 "cells": [
  {
   "cell_type": "code",
   "execution_count": 7,
   "metadata": {},
   "outputs": [
    {
     "name": "stdout",
     "output_type": "stream",
     "text": [
      "Requirement already satisfied: cve_searchsploit in /home/thiago/.local/lib/python3.8/site-packages (1.7)\n",
      "Requirement already satisfied: progressbar2 in /home/thiago/.local/lib/python3.8/site-packages (from cve_searchsploit) (4.4.2)\n",
      "Requirement already satisfied: requests in /home/thiago/.local/lib/python3.8/site-packages (from cve_searchsploit) (2.27.1)\n",
      "Requirement already satisfied: python-utils>=3.8.1 in /home/thiago/.local/lib/python3.8/site-packages (from progressbar2->cve_searchsploit) (3.8.2)\n",
      "Requirement already satisfied: charset-normalizer~=2.0.0; python_version >= \"3\" in /home/thiago/.local/lib/python3.8/site-packages (from requests->cve_searchsploit) (2.0.11)\n",
      "Requirement already satisfied: idna<4,>=2.5; python_version >= \"3\" in /home/thiago/.local/lib/python3.8/site-packages (from requests->cve_searchsploit) (3.3)\n",
      "Requirement already satisfied: urllib3<1.27,>=1.21.1 in /home/thiago/.local/lib/python3.8/site-packages (from requests->cve_searchsploit) (1.26.8)\n",
      "Requirement already satisfied: certifi>=2017.4.17 in /home/thiago/.local/lib/python3.8/site-packages (from requests->cve_searchsploit) (2021.10.8)\n",
      "Requirement already satisfied: typing-extensions>3.10.0.2 in /home/thiago/.local/lib/python3.8/site-packages (from python-utils>=3.8.1->progressbar2->cve_searchsploit) (4.8.0)\n"
     ]
    }
   ],
   "source": [
    "import requests\n",
    "import os \n",
    "import json\n",
    "import pandas as pd\n",
    "!pip install cve_searchsploit\n",
    "import cve_searchsploit as CS\n"
   ]
  },
  {
   "cell_type": "markdown",
   "metadata": {},
   "source": [
    "Initial Extraction"
   ]
  },
  {
   "cell_type": "code",
   "execution_count": 8,
   "metadata": {},
   "outputs": [
    {
     "name": "stdout",
     "output_type": "stream",
     "text": [
      "Refreshing exploit-database repo with latest exploits\n"
     ]
    },
    {
     "name": "stderr",
     "output_type": "stream",
     "text": [
      "From https://gitlab.com/exploit-database/exploitdb\n",
      " * branch                main       -> FETCH_HEAD\n",
      "  0% (0 of 46494) |                      | Elapsed Time: 0:00:00 ETA:  --:--:--\n"
     ]
    },
    {
     "name": "stdout",
     "output_type": "stream",
     "text": [
      "Already up to date.\n",
      "Refreshing EDBID-CVE mapping\n"
     ]
    },
    {
     "name": "stderr",
     "output_type": "stream",
     "text": [
      " 91% (42375 of 46494) |################  | Elapsed Time: 0:00:00 ETA:   0:00:00\n",
      "100% (46494 of 46494) |##################| Elapsed Time: 0:00:00 Time:  0:00:00\n"
     ]
    }
   ],
   "source": [
    "#Atualiza  a base de exploits\n",
    "CS.update_db()"
   ]
  },
  {
   "cell_type": "code",
   "execution_count": 9,
   "metadata": {},
   "outputs": [],
   "source": [
    "payload = {}\n",
    "DTRACK_API_KEY = os.getenv(\"DTRACK_API_KEY\", default=None)\n",
    "headers = {\n",
    "  'X-Api-Key': DTRACK_API_KEY\n",
    "}\n",
    "base_url = \"http://localhost:8081\"\n",
    "\n",
    "#Usado para filtrar as vulnerabilidades analisadas\n",
    "EPSS_SCORE_THRESHOLD=0.2"
   ]
  },
  {
   "cell_type": "code",
   "execution_count": 10,
   "metadata": {},
   "outputs": [],
   "source": [
    "#Obtém os projetos\n",
    "\n",
    "offset=0\n",
    "totalProjects = 1\n",
    "while(offset < totalProjects):\n",
    "    url = base_url+\"/api/v1/project?offset=\"+str(offset)\n",
    "    response = requests.request(\"GET\", url, headers=headers, data=payload)\n",
    "    totalProjects = int(response.headers[\"X-Total-Count\"])\n",
    "     \n",
    "    projects_response = response.json()\n",
    "    offset +=100\n"
   ]
  },
  {
   "cell_type": "code",
   "execution_count": 23,
   "metadata": {},
   "outputs": [],
   "source": [
    "projects = []\n",
    "for project in projects_response:\n",
    "    project = {\"name-version\":project[\"name\"]+\"-\"+project[\"version\"],\"id\":project[\"uuid\"]}\n",
    "    projects.append(project)\n",
    "\n",
    "file_path=\"./sankey/data/projects.json\"\n",
    "os.makedirs(os.path.dirname(file_path), exist_ok=True)\n",
    "\n",
    "with open(file_path, \"w+\") as json_file:\n",
    "    json.dump(projects, json_file)"
   ]
  },
  {
   "cell_type": "code",
   "execution_count": 19,
   "metadata": {},
   "outputs": [],
   "source": [
    "components = []\n",
    "for project in projects: \n",
    "    offset=0 \n",
    "    totalcomponets = 1\n",
    "    while(offset < totalcomponets):\n",
    "        url = base_url+\"/api/v1/component/project/\"+project['id']+\"?offset=\"+str(offset)\n",
    "        response = requests.request(\"GET\", url, headers=headers, data=payload)\n",
    "        totalcomponets = int(response.headers[\"X-Total-Count\"])\n",
    "        offset+=100\n",
    "        components_response = response.json()\n",
    "        for component in components_response:\n",
    "            component = {\"component_name\": component[\"name\"], \"component_version\": component[\"version\"],\"component_id\": component[\"uuid\"], \"project_id\":component[\"project\"][\"uuid\"]}\n",
    "            components.append(component)  \n",
    "\n",
    "file_path=\"./sankey/data/components.json\"\n",
    "os.makedirs(os.path.dirname(file_path), exist_ok=True)\n",
    "\n",
    "with open(file_path, \"w+\") as json_file:\n",
    "    json.dump(components, json_file)"
   ]
  },
  {
   "cell_type": "code",
   "execution_count": 20,
   "metadata": {},
   "outputs": [],
   "source": [
    "vulnerabilities = []\n",
    "for component in components:\n",
    "    offset=0\n",
    "    totalvulnerabilities=1\n",
    "    while(offset < totalvulnerabilities):\n",
    "        url = base_url+\"/api/v1/vulnerability/component/\"+component[\"component_id\"]+\"?offset=\"+str(offset)\n",
    "        response = requests.get(url, headers=headers, data=payload)\n",
    "        offset+=100\n",
    "        totalvulnerabilities = int(response.headers[\"X-Total-Count\"])\n",
    "        vulnerabilities_json = response.json()\n",
    "    if vulnerabilities_json != []:\n",
    "        for vulnerability in vulnerabilities_json: \n",
    "            if \"epssScore\" in vulnerability:\n",
    "                vulnerability = {\"component_id\": component[\"component_id\"], \"vulnerability_id\": vulnerability[\"vulnId\"], \"epssScore\": vulnerability[\"epssScore\"]}\n",
    "            else:\n",
    "                vulnerability = {\"component_id\": component[\"component_id\"], \"vulnerability_id\": vulnerability[\"vulnId\"], \"epssScore\": 0.0}\n",
    "            vulnerabilities.append(vulnerability)\n",
    "\n",
    "file_path=\"./sankey/data/vulnerabilities.json\"\n",
    "os.makedirs(os.path.dirname(file_path), exist_ok=True)\n",
    "\n",
    "with open(file_path, \"w+\") as json_file:\n",
    "    json.dump(vulnerabilities, json_file)"
   ]
  },
  {
   "cell_type": "code",
   "execution_count": 21,
   "metadata": {},
   "outputs": [],
   "source": [
    "\n",
    "vulnerabilities_ids = set()\n",
    "for vulnerability in vulnerabilities:\n",
    "    vulnerabilities_ids.add(vulnerability[\"vulnerability_id\"])"
   ]
  },
  {
   "cell_type": "code",
   "execution_count": 22,
   "metadata": {},
   "outputs": [],
   "source": [
    "exploits = {}\n",
    "for vulnerability_id in vulnerabilities_ids:\n",
    "    exploit_response = CS.edbid_from_cve(vulnerability_id)\n",
    "    if exploit_response is not None: \n",
    "        for exploit in exploit_response:\n",
    "            if vulnerability_id not in exploits:\n",
    "                exploits[vulnerability_id]=[exploit]\n",
    "            else:\n",
    "                exploits[vulnerability_id].append(exploit)\n",
    "        \n",
    "file_path=\"./sankey/data/exploits.json\"\n",
    "os.makedirs(os.path.dirname(file_path), exist_ok=True)\n",
    "\n",
    "with open(file_path, \"w+\") as json_file:\n",
    "    json.dump(exploits, json_file)"
   ]
  },
  {
   "cell_type": "code",
   "execution_count": 30,
   "metadata": {},
   "outputs": [
    {
     "name": "stdout",
     "output_type": "stream",
     "text": [
      "['juice-shop-1.0.0', 'keycloak-1.0.0']\n"
     ]
    }
   ],
   "source": [
    "systems_names=[]\n",
    "for project in projects: \n",
    "    systems_names.append(project[\"name-version\"])\n",
    "\n",
    "file_path=\"./sankey/data/systems_names.csv\"\n",
    "df = pd.DataFrame(systems_names, columns=[\"Nome\"])\n",
    "df.to_csv(file_path, index=False,header=False)\n"
   ]
  }
 ],
 "metadata": {
  "kernelspec": {
   "display_name": "Python 3",
   "language": "python",
   "name": "python3"
  },
  "language_info": {
   "codemirror_mode": {
    "name": "ipython",
    "version": 3
   },
   "file_extension": ".py",
   "mimetype": "text/x-python",
   "name": "python",
   "nbconvert_exporter": "python",
   "pygments_lexer": "ipython3",
   "version": "3.8.10"
  }
 },
 "nbformat": 4,
 "nbformat_minor": 2
}
